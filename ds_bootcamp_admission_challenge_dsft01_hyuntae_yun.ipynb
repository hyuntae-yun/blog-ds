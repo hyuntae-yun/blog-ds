{
  "nbformat": 4,
  "nbformat_minor": 0,
  "metadata": {
    "colab": {
      "name": "ds_bootcamp_admission_challenge.ipynb의 사본",
      "provenance": [],
      "collapsed_sections": [],
      "include_colab_link": true
    },
    "kernelspec": {
      "name": "python3",
      "display_name": "Python 3"
    }
  },
  "cells": [
    {
      "cell_type": "markdown",
      "metadata": {
        "id": "view-in-github",
        "colab_type": "text"
      },
      "source": [
        "<a href=\"https://colab.research.google.com/github/hyuntae-yun/blog-ds/blob/master/ds_bootcamp_admission_challenge_dsft01_hyuntae_yun.ipynb\" target=\"_parent\"><img src=\"https://colab.research.google.com/assets/colab-badge.svg\" alt=\"Open In Colab\"/></a>"
      ]
    },
    {
      "cell_type": "markdown",
      "metadata": {
        "id": "-q8YiM6xsp0X",
        "colab_type": "text"
      },
      "source": [
        "# Challenge\n",
        "\n",
        "- 코드스테이츠 DS 부트캠프 어드미션을 위한 Challenge 과제 입니다. \n",
        "- 아래 challenge 를 풀기 위해 제공된 강의가 모든 것을 알려주진 않습니다. \n",
        "- 따라서 필요한 부분은 스스로 google 검색을 통해 이 challenge 를 완성해 주셔야 합니다. \n",
        "- 각 shell 에 필요한 부분을 작성하신 후 함께 링크를 제출해 주시면 됩니다.\n",
        "- 모든 결과물은 하나의 shell에서 모두 실행될 수 있도록 print문을 사용해 주세요. run all 했을 때 전체 shell 이 모두 잘 실행될 수 있도록 관리해 주세요.\n",
        "\n"
      ]
    },
    {
      "cell_type": "code",
      "metadata": {
        "id": "jG9nz_Qso70q",
        "colab_type": "code",
        "colab": {
          "base_uri": "https://localhost:8080/",
          "height": 34
        },
        "outputId": "1a23d1f1-65bb-4be6-fd9a-b15ed55fd717"
      },
      "source": [
        "# 1. 다음의 list 에서 두 번째 list elemnet 를 print 해 보세요\n",
        "list_01 = ['Paul', 'John', 'Ringo', 'George']\n",
        "print(list_01[1])\n"
      ],
      "execution_count": null,
      "outputs": [
        {
          "output_type": "stream",
          "text": [
            "John\n"
          ],
          "name": "stdout"
        }
      ]
    },
    {
      "cell_type": "code",
      "metadata": {
        "id": "wGqpxIi8uDKE",
        "colab_type": "code",
        "colab": {
          "base_uri": "https://localhost:8080/",
          "height": 34
        },
        "outputId": "4e2b1c33-b396-488a-a4e5-808f1c92e75b"
      },
      "source": [
        "# 2. 다음의 list in the list에서 두 번째 element 를 print 해 보세요\n",
        "list_02 = [['Paul', 'John', 'Ringo', 'George']]\n",
        "print(list_02[0][1])"
      ],
      "execution_count": null,
      "outputs": [
        {
          "output_type": "stream",
          "text": [
            "John\n"
          ],
          "name": "stdout"
        }
      ]
    },
    {
      "cell_type": "code",
      "metadata": {
        "id": "u_UvSnNI8XgF",
        "colab_type": "code",
        "colab": {
          "base_uri": "https://localhost:8080/",
          "height": 52
        },
        "outputId": "63f00e63-8583-4b79-e292-4b91dcc17a6a"
      },
      "source": [
        "# Initializing list  \n",
        "list_01 = [ 1, 6, 3, 5, 3, 4 ] \n",
        "list_02 = [ 1, 6, 3, 5, 3 ] \n",
        "check = 0\n",
        "check1=0 \n",
        "# for loop을 이용하여 두 개의 리스트 안에 4가 있는지 없는지 print 하는 코드를 작성하세요\n",
        "for a in list_01 :\n",
        "  if a == 4:\n",
        "    check=1\n",
        "    break\n",
        "for b in list_02 :\n",
        "  if b == 4:\n",
        "    check1=1\n",
        "    break\n",
        "\n",
        "if check==1 :\n",
        "  print(\"list_01에 4가 포함되어 있습니다.\")\n",
        "else :\n",
        "  print(\"list_01에 4가 포함되어 있지 않습니다.\")\n",
        "if check1==1 :\n",
        "  print(\"list_02에 4가 포함되어 있습니다.\")\n",
        "else :\n",
        "  print(\"list_02에 4가 포함되어 있지 않습니다.\")"
      ],
      "execution_count": null,
      "outputs": [
        {
          "output_type": "stream",
          "text": [
            "list_01에 4가 포함되어 있습니다.\n",
            "list_02에 4가 포함되어 있지 않습니다.\n"
          ],
          "name": "stdout"
        }
      ]
    },
    {
      "cell_type": "code",
      "metadata": {
        "id": "mGSKPWaI8kA8",
        "colab_type": "code",
        "colab": {
          "base_uri": "https://localhost:8080/",
          "height": 52
        },
        "outputId": "7467b59d-01b8-4c33-fb6e-f21b1faf9cb0"
      },
      "source": [
        "# 위 코드 역할을 하는 함수를 작성해 보세요\n",
        "def check_four(list):\n",
        "  for a in list:\n",
        "    if a == 4:\n",
        "      return 1\n",
        "  return 0\n",
        "\n",
        "if(check_four(list_01)==1) :\n",
        "  print(\"list_01에 4가 포함되어 있습니다.\")\n",
        "else :\n",
        "  print(\"list_01에 4가 포함되어 있지 않습니다.\")\n",
        "if(check_four(list_02)==1) :\n",
        "  print(\"list_02에 4가 포함되어 있습니다.\")\n",
        "else :\n",
        "  print(\"list_02에 4가 포함되어 있지 않습니다.\")\n"
      ],
      "execution_count": null,
      "outputs": [
        {
          "output_type": "stream",
          "text": [
            "list_01에 4가 포함되어 있습니다.\n",
            "list_02에 4가 포함되어 있지 않습니다.\n"
          ],
          "name": "stdout"
        }
      ]
    },
    {
      "cell_type": "code",
      "metadata": {
        "id": "tmp7EoSo82Xa",
        "colab_type": "code",
        "colab": {
          "base_uri": "https://localhost:8080/",
          "height": 52
        },
        "outputId": "815bd3ea-43e6-4b89-e4e0-8285f397db4d"
      },
      "source": [
        "list_03 = [4, 5, 8, 9, 10] \n",
        "# 위 list element 중 8보다 큰 숫자가 몇 개가 있는지 코드로 작성해 보세요. \n",
        "\n",
        "count = 0\n",
        "\n",
        "for a in list_03 :\n",
        "  if a > 8 :\n",
        "    count+=1\n",
        "\n",
        "print(\"8보다 큰 숫자가 %d개 있습니다\" % count)\n",
        "\n",
        "\n",
        "list_03 = [4, 5, 8, 9, 10] \n",
        "import numpy as np\n",
        "npl3= np.array(list_03)\n",
        "cond = npl3 > 8\n",
        "print(\"8보다 큰 숫자가 %d개 있습니다.\" % len(npl3[cond]))\n"
      ],
      "execution_count": null,
      "outputs": [
        {
          "output_type": "stream",
          "text": [
            "8보다 큰 숫자가 2개 있습니다\n",
            "8보다 큰 숫자가 2개 있습니다.\n"
          ],
          "name": "stdout"
        }
      ]
    },
    {
      "cell_type": "code",
      "metadata": {
        "id": "fQKIWJ4KGsqs",
        "colab_type": "code",
        "colab": {
          "base_uri": "https://localhost:8080/",
          "height": 34
        },
        "outputId": "ed9657bd-d2cf-411b-dd27-e7ac66ce42af"
      },
      "source": [
        "# BMI\n",
        "height = [1.87,  1.87, 1.82, 1.91, 1.90, 1.85]\n",
        "weight = [81.65, 97.52, 95.25, 92.98, 86.18, 88.45]\n",
        "\n",
        "# bmi = weight / height ** 2 를 numpy array 활용하여 구해보세요\n",
        "import numpy as np\n",
        "np_height = np.array(height)\n",
        "np_weight = np.array(weight)\n",
        "bmi = np_weight / np_height ** 2\n",
        "# bmi 가 24 이상인 값들만 선택해 보세요\n",
        "cond = bmi > 25\n",
        "print(bmi[cond])\n",
        "\n"
      ],
      "execution_count": null,
      "outputs": [
        {
          "output_type": "stream",
          "text": [
            "[27.88755755 28.75558507 25.48723993 25.84368152]\n"
          ],
          "name": "stdout"
        }
      ]
    },
    {
      "cell_type": "code",
      "metadata": {
        "id": "q8D8Sheb82Gp",
        "colab_type": "code",
        "colab": {
          "base_uri": "https://localhost:8080/",
          "height": 70
        },
        "outputId": "53c18556-8008-47b3-a77b-63f08cb4de15"
      },
      "source": [
        "# pandas 패키지 라이브러리를 불러오세요\n",
        "\n",
        "# 아래 내용을 담는 pandas Dataframe 을 생성하세요\n",
        "# \n",
        "import pandas as pd\n",
        "dic ={'Bob': ['I liked it.', 'It was awful.'], 'Sue': ['Pretty good.', 'Bland.']}\n",
        "bircs =pd.DataFrame(dic)\n",
        "print(bircs)"
      ],
      "execution_count": 2,
      "outputs": [
        {
          "output_type": "stream",
          "text": [
            "             Bob           Sue\n",
            "0    I liked it.  Pretty good.\n",
            "1  It was awful.        Bland.\n"
          ],
          "name": "stdout"
        }
      ]
    },
    {
      "cell_type": "code",
      "metadata": {
        "id": "kSFa1Sg--lyw",
        "colab_type": "code",
        "colab": {
          "base_uri": "https://localhost:8080/",
          "height": 246
        },
        "outputId": "667efe4c-bda2-4a70-de64-31730b046f94"
      },
      "source": [
        "# 아래와 같은 dataframe을 만들어 보세요. (참고: 연도가 index가 되게 해 주세요)\n",
        "\"\"\"\n",
        "year dept     revenue\n",
        "2015 Sales    30\n",
        "2016 Sales    35\n",
        "2017 Sales    40\n",
        "\"\"\"\n",
        "dict ={'year':[2015,2016,2017], 'dept':['Sales','Sales','Sales']  ,  'revenue':[30,35,40]}\n",
        "bircs=pd.DataFrame(dict)\n",
        "birc=bircs.set_index('year')\n",
        "print(birc)\n",
        "# 2017년 데이터만 선택해 보세요\n",
        "print(birc.loc[2017])\n",
        "\n",
        "# 조건(condition)을 활용하여 revenue 30 이상으로만 filter 해 보세요. reference: https://pandas.pydata.org/pandas-docs/stable/getting_started/intro_tutorials/03_subset_data.html \n",
        "\n",
        "print(birc[birc[\"revenue\"] >= 30])"
      ],
      "execution_count": 4,
      "outputs": [
        {
          "output_type": "stream",
          "text": [
            "       dept  revenue\n",
            "year                \n",
            "2015  Sales       30\n",
            "2016  Sales       35\n",
            "2017  Sales       40\n",
            "dept       Sales\n",
            "revenue       40\n",
            "Name: 2017, dtype: object\n",
            "       dept  revenue\n",
            "year                \n",
            "2015  Sales       30\n",
            "2016  Sales       35\n",
            "2017  Sales       40\n"
          ],
          "name": "stdout"
        }
      ]
    },
    {
      "cell_type": "code",
      "metadata": {
        "id": "GFRfJR5O9XYd",
        "colab_type": "code",
        "colab": {
          "base_uri": "https://localhost:8080/",
          "height": 263
        },
        "outputId": "280787ad-392f-46fb-8fe1-d880c4f54d0a"
      },
      "source": [
        "# 'https://web.stanford.edu/class/archive/cs/cs109/cs109.1166/stuff/titanic.csv' 자료를 불러와 dataframe으로 만들어 보세요 \n",
        "import pandas as pd\n",
        "df = pd.read_csv('https://web.stanford.edu/class/archive/cs/cs109/cs109.1166/stuff/titanic.csv')\n",
        "print(df)"
      ],
      "execution_count": 6,
      "outputs": [
        {
          "output_type": "stream",
          "text": [
            "     Survived  Pclass  ... Parents/Children Aboard     Fare\n",
            "0           0       3  ...                       0   7.2500\n",
            "1           1       1  ...                       0  71.2833\n",
            "2           1       3  ...                       0   7.9250\n",
            "3           1       1  ...                       0  53.1000\n",
            "4           0       3  ...                       0   8.0500\n",
            "..        ...     ...  ...                     ...      ...\n",
            "882         0       2  ...                       0  13.0000\n",
            "883         1       1  ...                       0  30.0000\n",
            "884         0       3  ...                       2  23.4500\n",
            "885         1       1  ...                       0  30.0000\n",
            "886         0       3  ...                       0   7.7500\n",
            "\n",
            "[887 rows x 8 columns]\n"
          ],
          "name": "stdout"
        }
      ]
    },
    {
      "cell_type": "code",
      "metadata": {
        "id": "08CdiZjf-b6_",
        "colab_type": "code",
        "colab": {
          "base_uri": "https://localhost:8080/",
          "height": 1000
        },
        "outputId": "e2c7df4a-efb0-46fc-e8b2-81322d394d2e"
      },
      "source": [
        "# 타이타닉 데이터의 shape은 어떻게 되나요? \n",
        "print(df.shape)\n",
        "\n",
        "# 타이타닉 row record에서 10~20번째 줄을 출력해 보세요\n",
        "print(df.loc[10:20])\n",
        "# 타이타닉 데이터에서 'Survived', 'Age', 'Sex' 칼럼 데이터를 선택해 보세요\n",
        "print(df.loc[:,['Survived', 'Age', 'Sex']])\n",
        "print(df[['Survived', 'Age', 'Sex']])\n",
        "# 타이타닉 데이터에서 생존자 데이터만 골라보세요\n",
        "print(df[df['Survived']==1])\n",
        "# 생존자 데이터 중 여자, 남자 중 누가 더 많나요? 참고: https://pandas.pydata.org/pandas-docs/stable/reference/api/pandas.Series.value_counts.html\n",
        "compare=df['Sex'].value_counts()\n",
        "print(\"%s survivor is bigger than %s survivor\" %(compare.index[0],compare.index[1]))\n",
        "\n",
        "print(len(df[df['Sex'] == \"male\"]))\n",
        "\n",
        "if(compare.index[0]==\"male\") :\n",
        "  print(\"남자\")\n",
        "  \n",
        "if(compare.index[0]==\"female\") :\n",
        "  print(\"여자\")"
      ],
      "execution_count": 7,
      "outputs": [
        {
          "output_type": "stream",
          "text": [
            "(887, 8)\n",
            "    Survived  Pclass  ... Parents/Children Aboard     Fare\n",
            "10         1       3  ...                       1  16.7000\n",
            "11         1       1  ...                       0  26.5500\n",
            "12         0       3  ...                       0   8.0500\n",
            "13         0       3  ...                       5  31.2750\n",
            "14         0       3  ...                       0   7.8542\n",
            "15         1       2  ...                       0  16.0000\n",
            "16         0       3  ...                       1  29.1250\n",
            "17         1       2  ...                       0  13.0000\n",
            "18         0       3  ...                       0  18.0000\n",
            "19         1       3  ...                       0   7.2250\n",
            "20         0       2  ...                       0  26.0000\n",
            "\n",
            "[11 rows x 8 columns]\n",
            "     Survived   Age     Sex\n",
            "0           0  22.0    male\n",
            "1           1  38.0  female\n",
            "2           1  26.0  female\n",
            "3           1  35.0  female\n",
            "4           0  35.0    male\n",
            "..        ...   ...     ...\n",
            "882         0  27.0    male\n",
            "883         1  19.0  female\n",
            "884         0   7.0  female\n",
            "885         1  26.0    male\n",
            "886         0  32.0    male\n",
            "\n",
            "[887 rows x 3 columns]\n",
            "     Survived   Age     Sex\n",
            "0           0  22.0    male\n",
            "1           1  38.0  female\n",
            "2           1  26.0  female\n",
            "3           1  35.0  female\n",
            "4           0  35.0    male\n",
            "..        ...   ...     ...\n",
            "882         0  27.0    male\n",
            "883         1  19.0  female\n",
            "884         0   7.0  female\n",
            "885         1  26.0    male\n",
            "886         0  32.0    male\n",
            "\n",
            "[887 rows x 3 columns]\n",
            "     Survived  Pclass  ... Parents/Children Aboard     Fare\n",
            "1           1       1  ...                       0  71.2833\n",
            "2           1       3  ...                       0   7.9250\n",
            "3           1       1  ...                       0  53.1000\n",
            "8           1       3  ...                       2  11.1333\n",
            "9           1       2  ...                       0  30.0708\n",
            "..        ...     ...  ...                     ...      ...\n",
            "871         1       3  ...                       0   7.2250\n",
            "875         1       1  ...                       1  83.1583\n",
            "876         1       2  ...                       1  26.0000\n",
            "883         1       1  ...                       0  30.0000\n",
            "885         1       1  ...                       0  30.0000\n",
            "\n",
            "[342 rows x 8 columns]\n",
            "male survivor is bigger than female survivor\n",
            "573\n",
            "남자\n"
          ],
          "name": "stdout"
        }
      ]
    },
    {
      "cell_type": "code",
      "metadata": {
        "id": "jfcWmN6gVmND",
        "colab_type": "code",
        "colab": {
          "base_uri": "https://localhost:8080/",
          "height": 34
        },
        "outputId": "3ff4a99e-f977-4c8e-9e5a-617256c67ba1"
      },
      "source": [
        "list_01 = [ 1, 6, 3, 5, 3, 4 ] \n",
        "list_02 = [ 1, 6, 3, 5, 3 ] \n",
        "for i in max(list_01,list_02) :\n",
        "  if i < len(list_01) and list_01[i]== 4 :\n",
        "    print(\"list01 has 4\")\n",
        "  if  i < len(list_02) and list_02[i]== 4 :\n",
        "    print(\"list02 has 4\")"
      ],
      "execution_count": null,
      "outputs": [
        {
          "output_type": "stream",
          "text": [
            "list01 has 4\n"
          ],
          "name": "stdout"
        }
      ]
    },
    {
      "cell_type": "code",
      "metadata": {
        "id": "js54bcIDyz5e",
        "colab_type": "code",
        "colab": {}
      },
      "source": [
        ""
      ],
      "execution_count": null,
      "outputs": []
    }
  ]
}